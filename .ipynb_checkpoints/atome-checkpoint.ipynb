{
 "cells": [
  {
   "cell_type": "code",
   "execution_count": 144,
   "metadata": {},
   "outputs": [],
   "source": [
    "import pandas as pd\n",
    "import numpy as np\n",
    "\n",
    "\n",
    "def parse_online_status(df):\n",
    "    df['online'] = np.where((df.email.notnull() | df.website.notnull()), 'Online', 'Offline')\n",
    "\n",
    "    return df\n",
    "\n",
    "\n",
    "def extract_designation(contacts):\n",
    "    designations = []\n",
    "    for contact in contacts:\n",
    "        for d in designation_list:\n",
    "            designation = ''\n",
    "            if not pd.isnull(contact) and d.lower() in contact.lower():\n",
    "                designation = d\n",
    "                break\n",
    "        designations.append(designation)\n",
    "\n",
    "    return pd.Series(designations)\n",
    "\n",
    "\n",
    "def extract_name(contacts):\n",
    "    new_names = []\n",
    "    for contact in contacts:\n",
    "        for d in designation_list:\n",
    "            name = contact\n",
    "            if not pd.isnull(contact) and d.lower() in contact.lower():\n",
    "                name = name.replace(d, '').strip()\n",
    "                break\n",
    "        new_names.append(name)\n",
    "\n",
    "    return pd.Series(new_names)\n",
    "\n",
    "\n",
    "csv_filename = 'singapore-companies-directory.com_singapore_furniture_list_singapore_furnishings_list_singapore_furnishings_a-z_clean.csv'\n",
    "new_csv_filename = 'singapore-companies-directory.com_singapore_furniture_list_singapore_furnishings_list_singapore_furnishings_a-z_clean2.csv'\n",
    "\n",
    "df = pd.read_csv(csv_filename)\n",
    "df = df.assign(designation=extract_designation(df.contact.values.tolist()))\n",
    "df = df.assign(poc=extract_name(df.contact.values.tolist()))\n",
    "df = parse_online_status(df)\n",
    "df.fillna('', inplace=True)\n",
    "\n",
    "df.to_csv(new_csv_filename, index=False)"
   ]
  },
  {
   "cell_type": "code",
   "execution_count": 147,
   "metadata": {},
   "outputs": [],
   "source": [
    "import pandas as pd\n",
    "\n",
    "csv_filename = 'data/singapore-companies-directory.com_singapore_bathroom_accessories_a-z_clean.csv'\n",
    "new_csv_filename = 'data/singapore-companies-directory.com_singapore_bathroom_accessories_a-z_clean2.csv'\n",
    "csv_filename_export = 'data/export_singapore_bathroom_accessories_a-z.csv'\n",
    "\n",
    "df = pd.read_csv(csv_filename)\n",
    "df_out = df[['name', 'poc', 'designation', 'email', 'website', 'mobile', 'fax', 'address', 'online', 'category', 'sub-category', 'categories', 'profile']]\n",
    "df_out.to_csv(csv_filename_export, index=False)"
   ]
  }
 ],
 "metadata": {
  "kernelspec": {
   "display_name": "atome",
   "language": "python",
   "name": "atome"
  },
  "language_info": {
   "codemirror_mode": {
    "name": "ipython",
    "version": 3
   },
   "file_extension": ".py",
   "mimetype": "text/x-python",
   "name": "python",
   "nbconvert_exporter": "python",
   "pygments_lexer": "ipython3",
   "version": "3.5.2"
  }
 },
 "nbformat": 4,
 "nbformat_minor": 2
}
