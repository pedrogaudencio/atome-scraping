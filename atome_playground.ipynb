{
 "cells": [
  {
   "cell_type": "code",
   "execution_count": null,
   "metadata": {
    "collapsed": true
   },
   "outputs": [],
   "source": [
    "# Google search\n",
    "\n",
    "import pandas as pd\n",
    "\n",
    "# attendances = pd.read_json('attendances.json')\n",
    "# attendances\n",
    "\n",
    "from google import standard_search\n",
    "\n",
    "sources_dict = {\n",
    "    'linkedin': 'linkedin.com/in/',\n",
    "    'facebook': '',\n",
    "    'twitter': ''\n",
    "}\n",
    "\n",
    "search_list = [\n",
    "    ('linkedin', ['microsoft', 'ceo']),\n",
    "]\n",
    "\n",
    "def get_search_term(search_term):\n",
    "    source, args = search_term\n",
    "    # '\"site:linkedin.com/in/ \"microsoft\" AND \"ceo\"'\n",
    "    term = 'site:{} \"{}\"'.format(sources_dict[source], args.pop(0))\n",
    "    term += ''.join([' AND \"{}\"'.format(t) for t in args])\n",
    "    return term\n",
    "\n",
    "num_page = 1\n",
    "search_results = standard_search.search(get_search_term(search_list[0]), num_page)\n",
    "rows = []\n",
    "\n",
    "for result in search_results:\n",
    "    rows.append((\n",
    "        result.name,\n",
    "        result.description,\n",
    "        result.link,\n",
    "        result.google_link,\n",
    "        result.index,\n",
    "        result.page))\n",
    "\n",
    "results_data = pd.DataFrame(rows, columns=['name', 'description', 'link', 'google_link', 'google_index', 'page'])\n",
    "results_data"
   ]
  },
  {
   "cell_type": "code",
   "execution_count": null,
   "metadata": {
    "collapsed": true
   },
   "outputs": [],
   "source": [
    "# Search for email in whois\n",
    "\n",
    "from whois import whois\n",
    "\n",
    "w = whois(\"chjtech.com.sg\")\n",
    "w.emails"
   ]
  }
 ],
 "metadata": {
  "kernelspec": {
   "display_name": "atome",
   "language": "python",
   "name": "atome"
  },
  "language_info": {
   "codemirror_mode": {
    "name": "ipython",
    "version": 3
   },
   "file_extension": ".py",
   "mimetype": "text/x-python",
   "name": "python",
   "nbconvert_exporter": "python",
   "pygments_lexer": "ipython3",
   "version": "3.5.2"
  }
 },
 "nbformat": 4,
 "nbformat_minor": 2
}
